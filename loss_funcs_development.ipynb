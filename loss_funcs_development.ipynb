{
 "cells": [
  {
   "cell_type": "code",
   "execution_count": 2,
   "metadata": {
    "collapsed": false
   },
   "outputs": [],
   "source": [
    "%matplotlib inline\n",
    "%load_ext autoreload\n",
    "%autoreload 2"
   ]
  },
  {
   "cell_type": "code",
   "execution_count": 3,
   "metadata": {
    "collapsed": false,
    "scrolled": true
   },
   "outputs": [
    {
     "data": {
      "text/html": [
       "<script>requirejs.config({paths: { 'plotly': ['https://cdn.plot.ly/plotly-latest.min']},});if(!window.Plotly) {{require(['plotly'],function(plotly) {window.Plotly=plotly;});}}</script>"
      ],
      "text/vnd.plotly.v1+html": [
       "<script>requirejs.config({paths: { 'plotly': ['https://cdn.plot.ly/plotly-latest.min']},});if(!window.Plotly) {{require(['plotly'],function(plotly) {window.Plotly=plotly;});}}</script>"
      ]
     },
     "metadata": {},
     "output_type": "display_data"
    },
    {
     "name": "stderr",
     "output_type": "stream",
     "text": [
      "/Users/bychkov/anaconda/lib/python2.7/site-packages/matplotlib/__init__.py:1401: UserWarning:\n",
      "\n",
      " This call to matplotlib.use() has no effect\n",
      "because the backend has already been chosen;\n",
      "matplotlib.use() must be called *before* pylab, matplotlib.pyplot,\n",
      "or matplotlib.backends is imported for the first time.\n",
      "\n",
      "\n",
      "Using TensorFlow backend.\n"
     ]
    }
   ],
   "source": [
    "import os\n",
    "import plotly\n",
    "#from plotly.offline import download_plotlyjs, init_notebook_mode, plot, iplot\n",
    "import plotly.offline as py \n",
    "py.init_notebook_mode(connected=True)\n",
    "import plotly.graph_objs as go\n",
    "\n",
    "from builder import load_surv_samples\n",
    "\n",
    "import theano\n",
    "import theano.tensor as T\n",
    "\n",
    "import numpy as np\n",
    "import pandas as pd\n",
    "import matplotlib.pyplot as plt\n",
    "\n",
    "from scipy.stats import itemfreq\n",
    "\n",
    "from sklearn.model_selection import train_test_split"
   ]
  },
  {
   "cell_type": "markdown",
   "metadata": {},
   "source": [
    "## Data:"
   ]
  },
  {
   "cell_type": "code",
   "execution_count": 4,
   "metadata": {
    "collapsed": false
   },
   "outputs": [
    {
     "name": "stdout",
     "output_type": "stream",
     "text": [
      "Loading data from: simulated_data/linear_5K.pkl\n",
      "Train split: 3000; Val split: 1000; Test split: 1000.\n"
     ]
    }
   ],
   "source": [
    "data_x, data_y = load_surv_samples('simulated_data/linear_5K.pkl', sort=False)\n",
    "\n",
    "train_x, test_x, train_y, test_y = train_test_split(\n",
    "        data_x, data_y, test_size=0.2, random_state=75 )\n",
    "\n",
    "train_x, val_x, train_y, val_y = train_test_split(\n",
    "        train_x, train_y, test_size=0.25, random_state=75 )\n",
    "\n",
    "print(\"Train split: %d; Val split: %d; Test split: %d.\" % (train_x.shape[0],val_x.shape[0],test_x.shape[0]))"
   ]
  },
  {
   "cell_type": "code",
   "execution_count": 5,
   "metadata": {
    "collapsed": false,
    "run_control": {
     "marked": false
    }
   },
   "outputs": [
    {
     "name": "stdout",
     "output_type": "stream",
     "text": [
      "(1000, 5)\n",
      "(1000, 4)\n"
     ]
    }
   ],
   "source": [
    "print( test_x.shape )\n",
    "print( test_y.shape )"
   ]
  },
  {
   "cell_type": "markdown",
   "metadata": {
    "collapsed": true
   },
   "source": [
    "### Partial likelihood [ Theano ]"
   ]
  },
  {
   "cell_type": "code",
   "execution_count": 6,
   "metadata": {
    "collapsed": true
   },
   "outputs": [],
   "source": [
    "def partial_likelihood_th(y_true, y_pred):\n",
    "    sort_idx = np.argsort( y_true[:,1] )[::-1]\n",
    "\n",
    "    risk    = y_pred[sort_idx]\n",
    "    events  = y_true[:,2][sort_idx]\n",
    "\n",
    "    hazard_ratio = T.exp(risk)\n",
    "    log_cum_risk = T.log(T.extra_ops.cumsum(hazard_ratio))\n",
    "    uncencored_likelihood = risk.T - log_cum_risk\n",
    "    censored_likelihood = uncencored_likelihood * events\n",
    "    neg_likelihood = -T.sum( censored_likelihood )\n",
    "\n",
    "    return neg_likelihood"
   ]
  },
  {
   "cell_type": "markdown",
   "metadata": {},
   "source": [
    "### Partial likelihood [ NumPy ]"
   ]
  },
  {
   "cell_type": "code",
   "execution_count": 7,
   "metadata": {
    "collapsed": true
   },
   "outputs": [],
   "source": [
    "def partial_likelihood_np(y_true, y_pred):\n",
    "    # Sort by time: longest -> shortest  i.g. [4,3,2,1]\n",
    "    sort_idx = np.argsort( y_true[:,1] )[::-1]\n",
    "\n",
    "    risk    = y_pred[sort_idx]\n",
    "    events  = y_true[:,2][sort_idx]\n",
    "\n",
    "    hazard_ratio = np.exp(risk)\n",
    "    log_cum_risk = np.log(np.cumsum(hazard_ratio))\n",
    "    uncencored_likelihood = risk - log_cum_risk\n",
    "    censored_likelihood = uncencored_likelihood * events\n",
    "    neg_likelihood = -np.sum( censored_likelihood )\n",
    "\n",
    "    return neg_likelihood"
   ]
  },
  {
   "cell_type": "markdown",
   "metadata": {},
   "source": [
    "### Efron [ NumPy ]"
   ]
  },
  {
   "cell_type": "code",
   "execution_count": 257,
   "metadata": {
    "collapsed": false
   },
   "outputs": [],
   "source": [
    "def efron_estimator_np_vec(y_true, y_pred):\n",
    "    sort_idx = np.argsort( y_true[:,1] )[::-1]\n",
    "    \n",
    "    risk          = y_pred[sort_idx]\n",
    "    risk_exp      = np.exp(risk)\n",
    "    events        = y_true[:,2][sort_idx]\n",
    "    ftimes        = y_true[:,1][sort_idx]\n",
    "    ftimes_cens   = ftimes * events\n",
    "    \n",
    "    unique        = np.unique(ftimes_cens, return_index=True, return_counts=True)\n",
    "    unique_ftimes = np.trim_zeros( unique[0][::-1] )\n",
    "    m = np.count_nonzero(unique_ftimes)\n",
    "    \n",
    "    E_ti     = np.zeros(m, dtype='int32')\n",
    "    risk_phi = np.zeros(m, dtype='float32')\n",
    "    cum_risk = np.zeros(m, dtype='float32')\n",
    "    tie_phi  = np.zeros(m, dtype='float32')\n",
    "    \n",
    "    cum_sum = np.cumsum(risk_exp)\n",
    "    \n",
    "    for j in range(m):\n",
    "        idx = np.logical_and(ftimes == unique_ftimes[j], events)\n",
    "        E_ti[j]      = idx.sum()\n",
    "        \n",
    "        risk_phi[j]  = risk[idx].sum()\n",
    "        tie_phi[j]   = risk_exp[idx].sum()\n",
    "        \n",
    "        cum_risk[j]  = cum_sum[ ftimes == unique_ftimes[j] ][-1]\n",
    "        \n",
    "    likelihood = 0.\n",
    "    for j in range(m):\n",
    "        J = np.linspace(start=0, stop=E_ti[j]-1, num=E_ti[j]) / np.float(E_ti[j])\n",
    "        D_m = cum_risk[j] - J*tie_phi[j]\n",
    "        likelihood += risk_phi[j] - np.log(D_m).sum()\n",
    "        \n",
    "    return np.negative(likelihood)"
   ]
  },
  {
   "cell_type": "code",
   "execution_count": 258,
   "metadata": {
    "collapsed": false
   },
   "outputs": [],
   "source": [
    "def efron_estimator_np(y_true, y_pred):\n",
    "    sort_idx = np.argsort( y_true[:,1] )[::-1]\n",
    "    \n",
    "    # Sort & prepare:\n",
    "    risk          = y_pred[sort_idx]\n",
    "    risk_exp      = np.exp(risk)\n",
    "    events        = y_true[:,2][sort_idx]\n",
    "    ftimes        = y_true[:,1][sort_idx]\n",
    "\n",
    "    # Initis:\n",
    "    tie_count    = 0\n",
    "    likelihood   = 0.\n",
    "    cum_risk, risk_phi, tie_phi = 0., 0., 0. \n",
    "    \n",
    "    # Iterate over samples in inverse-time-order:\n",
    "    for i, (ti, ei) in list(enumerate(zip(ftimes, events))):\n",
    "        cum_risk += risk_exp[i]\n",
    "        \n",
    "        if ei:\n",
    "            risk_phi   += risk[i]\n",
    "            tie_phi    += risk_exp[i]\n",
    "            tie_count  += 1\n",
    "            \n",
    "        do_sum = (i == (ftimes.size - 1) and tie_count > 0) or \\\n",
    "                 (ftimes[i + 1] < ti and tie_count > 0)\n",
    "        if  do_sum:\n",
    "            # Diagnostic print #1\n",
    "            #print_function('%f - '%(risk_phi))\n",
    "            \n",
    "            for l in range(tie_count):\n",
    "                c    = l / float(tie_count)\n",
    "                dm   = np.log(cum_risk - c * tie_phi)\n",
    "                likelihood -= dm\n",
    "                \n",
    "                # Diagnostic print #2\n",
    "                #print('  log(%f - %f * %f) ' % (cum_risk, c, tie_phi))\n",
    "\n",
    "            likelihood += risk_phi\n",
    "            \n",
    "            # Diagnostic print #3\n",
    "            #print( '%i) %f %f %f, %i' % (i, risk_phi, cum_risk, tie_phi, tie_count) )\n",
    "\n",
    "            # Reset:\n",
    "            tie_phi   = 0.\n",
    "            risk_phi  = 0.\n",
    "            tie_count = 0\n",
    "        \n",
    "    return np.negative(likelihood)"
   ]
  },
  {
   "cell_type": "markdown",
   "metadata": {},
   "source": [
    "## Testing"
   ]
  },
  {
   "cell_type": "code",
   "execution_count": 259,
   "metadata": {
    "collapsed": false
   },
   "outputs": [
    {
     "name": "stdout",
     "output_type": "stream",
     "text": [
      "3.49821419494\n",
      "3.49821419494\n",
      "3.49821411527\n",
      "3.49821419494\n"
     ]
    }
   ],
   "source": [
    "# dim order in Y: \n",
    "# 0  1  2  3\n",
    "# h, t, e, id\n",
    "hs     = np.array([0]*4)\n",
    "ts     = np.array([1,3,4,5])\n",
    "es     = np.array([1,1,1,1])\n",
    "id     = np.array([0]*4)\n",
    "preds  = np.array([0.1,0.18,0.3,0.4])\n",
    "\n",
    "ys_uncens = np.column_stack((hs,ts,es,id))\n",
    "\n",
    "print( partial_likelihood_th(ys_uncens, preds).eval() )\n",
    "print( partial_likelihood_np(ys_uncens, preds) )\n",
    "print( efron_estimator_np_vec(ys_uncens, preds) )\n",
    "print( efron_estimator_np(ys_uncens, preds) )"
   ]
  },
  {
   "cell_type": "code",
   "execution_count": 260,
   "metadata": {
    "collapsed": false
   },
   "outputs": [
    {
     "name": "stdout",
     "output_type": "stream",
     "text": [
      "9.76101946041\n",
      "9.76101946041\n",
      "9.85944477328\n",
      "9.85944496367\n"
     ]
    }
   ],
   "source": [
    "# dim order in Y: \n",
    "# 0  1  2  3\n",
    "# h, t, e, id\n",
    "hs     = np.array([.1]*9)\n",
    "ts     = np.array([1,2,3,4,5,5,7,1,1])\n",
    "es     = np.array([1,1,0,1,1,1,1,0,1])\n",
    "id     = np.array([0]*9)\n",
    "preds  = np.array([-0.4, -0.3, -0.2, -0.1,  0.0,  0.1,  0.2,  0.3,  0.4])\n",
    "\n",
    "ys_uncens = np.column_stack((hs,ts,es,id))\n",
    "\n",
    "print( partial_likelihood_th(ys_uncens, preds).eval() )\n",
    "print( partial_likelihood_np(ys_uncens, preds) )\n",
    "print( efron_estimator_np_vec(ys_uncens, preds) )\n",
    "print( efron_estimator_np(ys_uncens, preds) )"
   ]
  },
  {
   "cell_type": "code",
   "execution_count": null,
   "metadata": {
    "collapsed": false
   },
   "outputs": [],
   "source": [
    "N = 5\n",
    "#s_idx = np.random.choice(1000, N)\n",
    "y_true = test_y[s_idx,...]\n",
    "y_pred = np.random.uniform(0.0, 0.1, N)\n",
    "\n",
    "print( partial_likelihood_th(y_true, y_pred).eval() )\n",
    "print( partial_likelihood_np(y_true, y_pred) )\n",
    "print( efron_estimator_np_vec(y_true, y_pred) )"
   ]
  },
  {
   "cell_type": "code",
   "execution_count": null,
   "metadata": {
    "collapsed": true
   },
   "outputs": [],
   "source": []
  }
 ],
 "metadata": {
  "kernelspec": {
   "display_name": "Python 2",
   "language": "python",
   "name": "python2"
  },
  "language_info": {
   "codemirror_mode": {
    "name": "ipython",
    "version": 2
   },
   "file_extension": ".py",
   "mimetype": "text/x-python",
   "name": "python",
   "nbconvert_exporter": "python",
   "pygments_lexer": "ipython2",
   "version": "2.7.12"
  },
  "varInspector": {
   "cols": {
    "lenName": 16,
    "lenType": 16,
    "lenVar": 40
   },
   "kernels_config": {
    "python": {
     "delete_cmd_postfix": "",
     "delete_cmd_prefix": "del ",
     "library": "var_list.py",
     "varRefreshCmd": "print(var_dic_list())"
    },
    "r": {
     "delete_cmd_postfix": ") ",
     "delete_cmd_prefix": "rm(",
     "library": "var_list.r",
     "varRefreshCmd": "cat(var_dic_list()) "
    }
   },
   "types_to_exclude": [
    "module",
    "function",
    "builtin_function_or_method",
    "instance",
    "_Feature"
   ],
   "window_display": false
  }
 },
 "nbformat": 4,
 "nbformat_minor": 2
}
