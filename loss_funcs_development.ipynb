{
 "cells": [
  {
   "cell_type": "code",
   "execution_count": 52,
   "metadata": {
    "collapsed": false
   },
   "outputs": [],
   "source": [
    "%matplotlib inline\n",
    "%load_ext autoreload\n",
    "%autoreload 2"
   ]
  },
  {
   "cell_type": "code",
   "execution_count": 53,
   "metadata": {
    "collapsed": false,
    "scrolled": true
   },
   "outputs": [
    {
     "data": {
      "text/html": [
       "<script>requirejs.config({paths: { 'plotly': ['https://cdn.plot.ly/plotly-latest.min']},});if(!window.Plotly) {{require(['plotly'],function(plotly) {window.Plotly=plotly;});}}</script>"
      ],
      "text/vnd.plotly.v1+html": [
       "<script>requirejs.config({paths: { 'plotly': ['https://cdn.plot.ly/plotly-latest.min']},});if(!window.Plotly) {{require(['plotly'],function(plotly) {window.Plotly=plotly;});}}</script>"
      ]
     },
     "metadata": {},
     "output_type": "display_data"
    },
    {
     "name": "stderr",
     "output_type": "stream",
     "text": [
      "/Users/bychkov/anaconda/lib/python2.7/site-packages/matplotlib/__init__.py:1401: UserWarning:\n",
      "\n",
      " This call to matplotlib.use() has no effect\n",
      "because the backend has already been chosen;\n",
      "matplotlib.use() must be called *before* pylab, matplotlib.pyplot,\n",
      "or matplotlib.backends is imported for the first time.\n",
      "\n",
      "\n",
      "Using TensorFlow backend.\n"
     ]
    }
   ],
   "source": [
    "import os\n",
    "import plotly\n",
    "#from plotly.offline import download_plotlyjs, init_notebook_mode, plot, iplot\n",
    "import plotly.offline as py \n",
    "py.init_notebook_mode(connected=True)\n",
    "import plotly.graph_objs as go\n",
    "\n",
    "from builder import load_surv_samples\n",
    "\n",
    "import theano\n",
    "import theano.tensor as T\n",
    "\n",
    "import numpy as np\n",
    "import pandas as pd\n",
    "import matplotlib.pyplot as plt\n",
    "\n",
    "from scipy.stats import itemfreq\n",
    "\n",
    "from sklearn.model_selection import train_test_split"
   ]
  },
  {
   "cell_type": "markdown",
   "metadata": {},
   "source": [
    "## Data:"
   ]
  },
  {
   "cell_type": "code",
   "execution_count": null,
   "metadata": {
    "collapsed": false
   },
   "outputs": [],
   "source": [
    "data_x, data_y = load_surv_samples('simulated_data/linear_5K.pkl', sort=False)\n",
    "\n",
    "train_x, test_x, train_y, test_y = train_test_split(\n",
    "        data_x, data_y, test_size=0.2, random_state=75 )\n",
    "\n",
    "train_x, val_x, train_y, val_y = train_test_split(\n",
    "        train_x, train_y, test_size=0.25, random_state=75 )\n",
    "\n",
    "print(\"Train split: %d; Val split: %d; Test split: %d.\" % (train_x.shape[0],val_x.shape[0],test_x.shape[0]))"
   ]
  },
  {
   "cell_type": "code",
   "execution_count": null,
   "metadata": {
    "collapsed": false,
    "run_control": {
     "marked": false
    }
   },
   "outputs": [],
   "source": [
    "print( test_x.shape )\n",
    "print( test_y.shape )"
   ]
  },
  {
   "cell_type": "markdown",
   "metadata": {
    "collapsed": true
   },
   "source": [
    "### Partial likelihood [ Theano ]"
   ]
  },
  {
   "cell_type": "code",
   "execution_count": 54,
   "metadata": {
    "collapsed": true
   },
   "outputs": [],
   "source": [
    "def partial_likelihood_th(y_true, y_pred):\n",
    "    sort_idx = np.argsort( y_true[:,1] )[::-1]\n",
    "\n",
    "    risk    = y_pred[sort_idx]\n",
    "    events  = y_true[:,2][sort_idx]\n",
    "\n",
    "    hazard_ratio = T.exp(risk)\n",
    "    log_cum_risk = T.log(T.extra_ops.cumsum(hazard_ratio))\n",
    "    uncencored_likelihood = risk.T - log_cum_risk\n",
    "    censored_likelihood = uncencored_likelihood * events\n",
    "    neg_likelihood = -T.sum( censored_likelihood )\n",
    "\n",
    "    return neg_likelihood"
   ]
  },
  {
   "cell_type": "markdown",
   "metadata": {},
   "source": [
    "### Partial likelihood [ NumPy ]"
   ]
  },
  {
   "cell_type": "code",
   "execution_count": 55,
   "metadata": {
    "collapsed": true
   },
   "outputs": [],
   "source": [
    "def partial_likelihood_np(y_true, y_pred):\n",
    "    # Sort by time: longest -> shortest  i.g. [4,3,2,1]\n",
    "    sort_idx = np.argsort( y_true[:,1] )[::-1]\n",
    "\n",
    "    risk    = y_pred[sort_idx]\n",
    "    events  = y_true[:,2][sort_idx]\n",
    "\n",
    "    hazard_ratio = np.exp(risk)\n",
    "    log_cum_risk = np.log(np.cumsum(hazard_ratio))\n",
    "    uncencored_likelihood = risk - log_cum_risk\n",
    "    censored_likelihood = uncencored_likelihood * events\n",
    "    neg_likelihood = -np.sum( censored_likelihood )\n",
    "\n",
    "    return neg_likelihood"
   ]
  },
  {
   "cell_type": "markdown",
   "metadata": {},
   "source": [
    "### Efron [ NumPy ]"
   ]
  },
  {
   "cell_type": "code",
   "execution_count": 56,
   "metadata": {
    "collapsed": false
   },
   "outputs": [],
   "source": [
    "def efron_estimator_np_vec(y_true, y_pred):\n",
    "    sort_idx = np.argsort( y_true[:,1] )[::-1]\n",
    "    \n",
    "    risk          = y_pred[sort_idx]\n",
    "    risk_exp      = np.exp(risk)\n",
    "    events        = y_true[:,2][sort_idx]\n",
    "    ftimes        = y_true[:,1][sort_idx]\n",
    "    ftimes_cens   = ftimes * events\n",
    "    \n",
    "    unique        = np.unique(ftimes_cens, return_index=True, return_counts=True)\n",
    "    unique_ftimes = np.trim_zeros( unique[0][::-1] )\n",
    "    m = np.count_nonzero(unique_ftimes)\n",
    "    \n",
    "    E_ti     = np.zeros(m, dtype='int32')\n",
    "    risk_phi = np.zeros(m, dtype='float32')\n",
    "    cum_risk = np.zeros(m, dtype='float32')\n",
    "    tie_phi  = np.zeros(m, dtype='float32')\n",
    "    \n",
    "    cum_sum = np.cumsum(risk_exp)\n",
    "    \n",
    "    for j in range(m):\n",
    "        idx = np.logical_and(ftimes == unique_ftimes[j], events)\n",
    "        E_ti[j]      = idx.sum()\n",
    "        \n",
    "        risk_phi[j]  = risk[idx].sum()\n",
    "        tie_phi[j]   = risk_exp[idx].sum()\n",
    "        \n",
    "        cum_risk[j]  = cum_sum[ ftimes == unique_ftimes[j] ][-1]\n",
    "        \n",
    "    likelihood = 0.\n",
    "    for j in range(m):\n",
    "        J = np.linspace(start=0, stop=E_ti[j]-1, num=E_ti[j]) / np.float(E_ti[j])\n",
    "        D_m = cum_risk[j] - J*tie_phi[j]\n",
    "        likelihood += risk_phi[j] - np.log(D_m).sum()\n",
    "        \n",
    "    return np.negative(likelihood)"
   ]
  },
  {
   "cell_type": "code",
   "execution_count": 57,
   "metadata": {
    "collapsed": false
   },
   "outputs": [],
   "source": [
    "def efron_estimator_np(y_true, y_pred):\n",
    "    sort_idx = np.argsort( y_true[:,1] )[::-1]\n",
    "    \n",
    "    # Sort & prepare:\n",
    "    risk          = y_pred[sort_idx]\n",
    "    risk_exp      = np.exp(risk)\n",
    "    events        = y_true[:,2][sort_idx]\n",
    "    ftimes        = y_true[:,1][sort_idx]\n",
    "\n",
    "    # Initis:\n",
    "    tie_count    = 0\n",
    "    likelihood   = 0.\n",
    "    cum_risk, risk_phi, tie_phi = 0., 0., 0. \n",
    "    \n",
    "    # Iterate over samples in inverse-time-order:\n",
    "    for i, (ti, ei) in list(enumerate(zip(ftimes, events))):\n",
    "        cum_risk += risk_exp[i]\n",
    "        \n",
    "        if ei:\n",
    "            risk_phi   += risk[i]\n",
    "            tie_phi    += risk_exp[i]\n",
    "            tie_count  += 1\n",
    "            \n",
    "        do_sum = (i == (ftimes.size - 1) and tie_count > 0) or \\\n",
    "                 (ftimes[i + 1] < ti and tie_count > 0)\n",
    "        if  do_sum:\n",
    "            # Diagnostic print #1\n",
    "            #print_function('%f - '%(risk_phi))\n",
    "            \n",
    "            for l in range(tie_count):\n",
    "                c    = l / float(tie_count)\n",
    "                dm   = np.log(cum_risk - c * tie_phi)\n",
    "                likelihood -= dm\n",
    "                \n",
    "                # Diagnostic print #2\n",
    "                #print('  log(%f - %f * %f) ' % (cum_risk, c, tie_phi))\n",
    "\n",
    "            likelihood += risk_phi\n",
    "            \n",
    "            # Diagnostic print #3\n",
    "            #print( '%i) %f %f %f, %i' % (i, risk_phi, cum_risk, tie_phi, tie_count) )\n",
    "\n",
    "            # Reset:\n",
    "            tie_phi   = 0.\n",
    "            risk_phi  = 0.\n",
    "            tie_count = 0\n",
    "        \n",
    "    return np.negative(likelihood)"
   ]
  },
  {
   "cell_type": "markdown",
   "metadata": {},
   "source": [
    "### Efron [ TensorFlow]"
   ]
  },
  {
   "cell_type": "code",
   "execution_count": 58,
   "metadata": {
    "collapsed": false
   },
   "outputs": [],
   "source": [
    "import tensorflow as tf\n",
    "sess = tf.Session()\n",
    "\n",
    "import keras\n",
    "from keras import backend as K\n",
    "K.set_session(sess)"
   ]
  },
  {
   "cell_type": "code",
   "execution_count": 59,
   "metadata": {
    "collapsed": false
   },
   "outputs": [],
   "source": [
    "def efron_estimator_tf(y_true, y_pred):\n",
    "    sort_idx = tf.nn.top_k(y_true[:,1], k=tf.shape(y_pred)[0], sorted=True).indices\n",
    "    \n",
    "    risk          = tf.gather(y_pred, sort_idx)\n",
    "    risk_exp      = tf.exp(risk)\n",
    "    events        = tf.gather(y_true[:,2], sort_idx)\n",
    "    ftimes        = tf.gather(y_true[:,1], sort_idx)\n",
    "    ftimes_cens   = ftimes * events\n",
    "    \n",
    "    # Get unique failure times & Exclude zeros \n",
    "    # NOTE: this assumes that falure times start from > 0 (greater than zero)\n",
    "    unique = tf.unique(ftimes_cens).y\n",
    "    unique_ftimes = tf.boolean_mask(unique, tf.greater(unique, 0) )\n",
    "    m = tf.shape(unique_ftimes)[0]\n",
    "    \n",
    "    # Define key variables:\n",
    "    log_lik  = tf.Variable(0., dtype=tf.float32, validate_shape=False, trainable=False)\n",
    "    E_ti     = tf.Variable([], dtype=tf.int32,   validate_shape=False, trainable=False)\n",
    "    risk_phi = tf.Variable([], dtype=tf.float32, validate_shape=False, trainable=False)\n",
    "    tie_phi  = tf.Variable([], dtype=tf.float32, validate_shape=False, trainable=False)\n",
    "    cum_risk = tf.Variable([], dtype=tf.float32, validate_shape=False, trainable=False)\n",
    "    cum_sum  = tf.cumsum(risk_exp)\n",
    "    \n",
    "    # -----------------------------------------------------------------\n",
    "    # Prepare for looping:\n",
    "    # -----------------------------------------------------------------\n",
    "    i = tf.constant(0, tf.int32)\n",
    "    def loop_cond(i, *args):\n",
    "        return i < m\n",
    "\n",
    "    # Step for loop # 1:\n",
    "    def loop_1_step(i, E, Rp, Tp, Cr, Cs):\n",
    "        n = tf.shape(Cs)[0]\n",
    "        idx_b = tf.logical_and(\n",
    "            tf.equal(ftimes, unique_ftimes[i]), \n",
    "            tf.equal(events, tf.ones_like(events)) )\n",
    "        \n",
    "        idx_i = tf.cast(\n",
    "            tf.boolean_mask( \n",
    "                tf.lin_space(0., tf.cast(n-1,tf.float32), n), \n",
    "                tf.greater(tf.cast(idx_b, tf.int32),0)\n",
    "            ), tf.int32 )\n",
    "        \n",
    "        E  = tf.concat([E, [tf.reduce_sum(tf.cast(idx_b, tf.int32))]], 0)\n",
    "        Rp = tf.concat([Rp, [tf.reduce_sum(tf.gather(risk, idx_i))]], 0)\n",
    "        Tp = tf.concat([Tp, [tf.reduce_sum(tf.gather(risk_exp, idx_i))]], 0)\n",
    "        \n",
    "        idx_i = tf.cast(\n",
    "            tf.boolean_mask( \n",
    "                tf.lin_space(0., tf.cast(n-1,tf.float32), n), \n",
    "                tf.greater(tf.cast(tf.equal(ftimes, unique_ftimes[i]), tf.int32),0)\n",
    "            ), tf.int32 )\n",
    "        \n",
    "        Cr = tf.concat([Cr, [tf.reduce_max(tf.gather( Cs, idx_i))]], 0) \n",
    "        return i + 1, E, Rp, Tp, Cr, Cs\n",
    "    \n",
    "    # Step for loop # 1:\n",
    "    def loop_2_step(i, E, Rp, Tp, Cr, likelihood):\n",
    "        l = E_ti[i]\n",
    "        J = tf.lin_space(0., tf.cast(l-1,tf.float32), l) / tf.cast(l, tf.float32)\n",
    "        Dm = Cr[i] - J * Tp[i]\n",
    "        likelihood = likelihood + Rp[i] - tf.reduce_sum(tf.log(Dm))\n",
    "        return i + 1, E, Rp, Tp, Cr, likelihood\n",
    "    \n",
    "    # -----------------------------------------------------------------\n",
    "    \n",
    "    # Loop # 1:\n",
    "    _, E_ti, risk_phi, tie_phi, cum_risk, _ = loop_1 = tf.while_loop(\n",
    "        loop_cond, loop_1_step,\n",
    "        [i, E_ti, risk_phi, tie_phi, cum_risk, cum_sum]\n",
    "    )\n",
    "    \n",
    "    # Loop # 2:\n",
    "    loop_2 = tf.while_loop(\n",
    "        loop_cond, loop_2_step,\n",
    "        [i, E_ti, risk_phi, tie_phi, cum_risk, log_lik]\n",
    "    )\n",
    "    \n",
    "    log_lik = loop_2[5]\n",
    "    return tf.negative(log_lik)"
   ]
  },
  {
   "cell_type": "markdown",
   "metadata": {},
   "source": [
    "## Lousy Testing"
   ]
  },
  {
   "cell_type": "code",
   "execution_count": 60,
   "metadata": {
    "collapsed": false
   },
   "outputs": [
    {
     "name": "stdout",
     "output_type": "stream",
     "text": [
      "3.49821419494\n",
      "3.49821419494\n",
      "3.49821411527\n",
      "3.49821419494\n"
     ]
    },
    {
     "data": {
      "text/plain": [
       "3.498214"
      ]
     },
     "execution_count": 60,
     "metadata": {},
     "output_type": "execute_result"
    }
   ],
   "source": [
    "# dim order in Y: \n",
    "# 0  1  2  3\n",
    "# h, t, e, id\n",
    "hs     = np.array([0]*4)\n",
    "ts     = np.array([1,3,4,5])\n",
    "es     = np.array([1,1,1,1])\n",
    "id     = np.array([0]*4)\n",
    "preds  = np.array([0.1,0.18,0.3,0.4])\n",
    "\n",
    "ys_uncens = np.column_stack((hs,ts,es,id))\n",
    "\n",
    "print( partial_likelihood_th(ys_uncens, preds).eval() )\n",
    "print( partial_likelihood_np(ys_uncens, preds) )\n",
    "print( efron_estimator_np_vec(ys_uncens, preds) )\n",
    "print( efron_estimator_np(ys_uncens, preds) )\n",
    "K.eval( efron_estimator_tf(K.variable(ys_uncens), K.variable(preds)) )"
   ]
  },
  {
   "cell_type": "code",
   "execution_count": 61,
   "metadata": {
    "collapsed": false
   },
   "outputs": [
    {
     "name": "stdout",
     "output_type": "stream",
     "text": [
      "9.76101946041\n",
      "9.76101946041\n",
      "9.85944477328\n",
      "9.85944496367\n"
     ]
    },
    {
     "data": {
      "text/plain": [
       "9.8594446"
      ]
     },
     "execution_count": 61,
     "metadata": {},
     "output_type": "execute_result"
    }
   ],
   "source": [
    "# dim order in Y: \n",
    "# 0  1  2  3\n",
    "# h, t, e, id\n",
    "hs     = np.array([.1]*9)\n",
    "ts     = np.array([1,2,3,4,5,5,7,1,1])\n",
    "es     = np.array([1,1,0,1,1,1,1,0,1])\n",
    "id     = np.array([0]*9)\n",
    "preds  = np.array([-0.4, -0.3, -0.2, -0.1,  0.0,  0.1,  0.2,  0.3,  0.4])\n",
    "\n",
    "ys_uncens = np.column_stack((hs,ts,es,id))\n",
    "\n",
    "print( partial_likelihood_th(ys_uncens, preds).eval() )\n",
    "print( partial_likelihood_np(ys_uncens, preds) )\n",
    "print( efron_estimator_np_vec(ys_uncens, preds) )\n",
    "print( efron_estimator_np(ys_uncens, preds) )\n",
    "K.eval( efron_estimator_tf(K.variable(ys_uncens), K.variable(preds)) )"
   ]
  },
  {
   "cell_type": "markdown",
   "metadata": {},
   "source": [
    "## Proper tests:"
   ]
  },
  {
   "cell_type": "code",
   "execution_count": 62,
   "metadata": {
    "collapsed": false
   },
   "outputs": [],
   "source": [
    "import pandas as pd\n",
    "from rpy2 import robjects\n",
    "from rpy2.robjects import pandas2ri\n",
    "from rpy2.robjects.vectors import DataFrame\n",
    "from rpy2 import robjects as ro\n",
    "pandas2ri.activate()"
   ]
  },
  {
   "cell_type": "code",
   "execution_count": 136,
   "metadata": {
    "collapsed": true
   },
   "outputs": [],
   "source": [
    "# Define R-code to compute efron log-likelihood:\n",
    "r_code = '''\n",
    "    function(test.d){\n",
    "        fit <- coxph(Surv(time, status) ~ x1 + x2, test.d, method = 'efron', init = c(0.9,1.5), iter.max=0) \n",
    "        out = list( fit$linear.predictors, fit$loglik )\n",
    "    }\n",
    "'''\n",
    "\n",
    "rfunc  = robjects.r(r_code)"
   ]
  },
  {
   "cell_type": "code",
   "execution_count": 142,
   "metadata": {
    "collapsed": false
   },
   "outputs": [
    {
     "name": "stdout",
     "output_type": "stream",
     "text": [
      "__:  2155.118\n",
      "Np:  2154.591\n",
      "TF:  2154.59\n",
      "R :  2154.591\n"
     ]
    }
   ],
   "source": [
    "N = 1024 # np.random.randint(15,25)\n",
    "tie_ratio   = 0.7 # [0,1]\n",
    "set_size    = int(np.round(N*tie_ratio))\n",
    "censor_rate = 0.5\n",
    "\n",
    "hs     = np.array([.1]*set_size)\n",
    "ts     = np.linspace(1, N, N)  # + np.random.normal(0., 0.05, N)\n",
    "ts     = ts[ np.random.choice(N, set_size, replace=True) ]\n",
    "es     = np.random.binomial(1, (1-censor_rate), set_size)\n",
    "id     = np.array([0]*set_size)\n",
    "\n",
    "y_data = np.column_stack((hs,ts,es,id))\n",
    "\n",
    "# Create a data-frame for R:\n",
    "df = pd.DataFrame({\n",
    "        'time'   : ts,\n",
    "        'status' : es,\n",
    "        'x1'     : np.random.uniform(-1.0, 1.0, set_size),\n",
    "        'x2'     : np.random.uniform(-1.0, 1.0, set_size) })\n",
    "\n",
    "# Compute likelihood with R:\n",
    "r_out  = rfunc( df )\n",
    "preds, r_lik  = r_out[0], np.negative(np.round(r_out[1][0],4))\n",
    "\n",
    "\n",
    "print( '__: ', np.round(partial_likelihood_np(y_data, preds),4) )\n",
    "print( 'Np: ', np.round(efron_estimator_np_vec(y_data, preds),4) )\n",
    "print( 'TF: ', K.eval( efron_estimator_tf(K.variable(y_data), K.variable(preds)) ) )\n",
    "print( 'R : ', r_lik )"
   ]
  },
  {
   "cell_type": "markdown",
   "metadata": {},
   "source": [
    "## From R-simulated data:"
   ]
  },
  {
   "cell_type": "code",
   "execution_count": null,
   "metadata": {
    "collapsed": false
   },
   "outputs": [],
   "source": [
    "N = 100\n",
    "s_idx = np.random.choice(1000, N)\n",
    "y_true = test_y[s_idx,...]\n",
    "y_pred = np.random.uniform(0.0, 0.1, N)\n",
    "\n",
    "print( partial_likelihood_th(ys_uncens, preds).eval() )\n",
    "print( partial_likelihood_np(ys_uncens, preds) )\n",
    "print( efron_estimator_np_vec(ys_uncens, preds) )\n",
    "print( efron_estimator_np(ys_uncens, preds) )\n",
    "K.eval( efron_estimator_tf(K.variable(ys_uncens), K.variable(preds)) )"
   ]
  }
 ],
 "metadata": {
  "kernelspec": {
   "display_name": "Python 2",
   "language": "python",
   "name": "python2"
  },
  "language_info": {
   "codemirror_mode": {
    "name": "ipython",
    "version": 2
   },
   "file_extension": ".py",
   "mimetype": "text/x-python",
   "name": "python",
   "nbconvert_exporter": "python",
   "pygments_lexer": "ipython2",
   "version": "2.7.12"
  },
  "varInspector": {
   "cols": {
    "lenName": 16,
    "lenType": 16,
    "lenVar": 40
   },
   "kernels_config": {
    "python": {
     "delete_cmd_postfix": "",
     "delete_cmd_prefix": "del ",
     "library": "var_list.py",
     "varRefreshCmd": "print(var_dic_list())"
    },
    "r": {
     "delete_cmd_postfix": ") ",
     "delete_cmd_prefix": "rm(",
     "library": "var_list.r",
     "varRefreshCmd": "cat(var_dic_list()) "
    }
   },
   "types_to_exclude": [
    "module",
    "function",
    "builtin_function_or_method",
    "instance",
    "_Feature"
   ],
   "window_display": false
  }
 },
 "nbformat": 4,
 "nbformat_minor": 2
}
