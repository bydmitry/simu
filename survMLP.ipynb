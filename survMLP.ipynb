{
 "cells": [
  {
   "cell_type": "code",
   "execution_count": 1,
   "metadata": {
    "collapsed": false
   },
   "outputs": [],
   "source": [
    "%matplotlib inline\n",
    "%load_ext autoreload\n",
    "%autoreload 2"
   ]
  },
  {
   "cell_type": "code",
   "execution_count": 2,
   "metadata": {
    "collapsed": false,
    "scrolled": true
   },
   "outputs": [
    {
     "data": {
      "text/html": [
       "<script>requirejs.config({paths: { 'plotly': ['https://cdn.plot.ly/plotly-latest.min']},});if(!window.Plotly) {{require(['plotly'],function(plotly) {window.Plotly=plotly;});}}</script>"
      ],
      "text/vnd.plotly.v1+html": [
       "<script>requirejs.config({paths: { 'plotly': ['https://cdn.plot.ly/plotly-latest.min']},});if(!window.Plotly) {{require(['plotly'],function(plotly) {window.Plotly=plotly;});}}</script>"
      ]
     },
     "metadata": {},
     "output_type": "display_data"
    },
    {
     "name": "stderr",
     "output_type": "stream",
     "text": [
      "/Users/bychkov/anaconda/lib/python2.7/site-packages/matplotlib/__init__.py:1401: UserWarning:\n",
      "\n",
      " This call to matplotlib.use() has no effect\n",
      "because the backend has already been chosen;\n",
      "matplotlib.use() must be called *before* pylab, matplotlib.pyplot,\n",
      "or matplotlib.backends is imported for the first time.\n",
      "\n",
      "\n",
      "Using TensorFlow backend.\n"
     ]
    }
   ],
   "source": [
    "import os\n",
    "import plotly\n",
    "#from plotly.offline import download_plotlyjs, init_notebook_mode, plot, iplot\n",
    "import plotly.offline as py \n",
    "py.init_notebook_mode(connected=True)\n",
    "import plotly.graph_objs as go\n",
    "\n",
    "import numpy as np\n",
    "import pandas as pd\n",
    "import matplotlib.pyplot as plt\n",
    "\n",
    "from builder import *\n",
    "\n",
    "import keras\n",
    "from keras.models import Sequential\n",
    "from keras.layers import InputLayer\n",
    "from keras.layers.core import Dense, Dropout, Flatten, Reshape, Activation\n",
    "from keras.layers.normalization import BatchNormalization\n",
    "from keras.regularizers import l2, l1\n",
    "\n",
    "from sklearn.model_selection import train_test_split"
   ]
  },
  {
   "cell_type": "code",
   "execution_count": 3,
   "metadata": {
    "collapsed": false
   },
   "outputs": [
    {
     "name": "stdout",
     "output_type": "stream",
     "text": [
      "Loading data from: simulated_data/linear_5K.pkl\n",
      "Train split: 3000; Val split: 1000; Test split: 1000.\n"
     ]
    }
   ],
   "source": [
    "data_x, data_y = load_surv_samples('simulated_data/linear_5K.pkl', sort=False)\n",
    "\n",
    "train_x, test_x, train_y, test_y = train_test_split(\n",
    "        data_x, data_y, test_size=0.2, random_state=75 )\n",
    "\n",
    "train_x, val_x, train_y, val_y = train_test_split(\n",
    "        train_x, train_y, test_size=0.25, random_state=75 )\n",
    "\n",
    "print(\"Train split: %d; Val split: %d; Test split: %d.\" % (train_x.shape[0],val_x.shape[0],test_x.shape[0]))"
   ]
  },
  {
   "cell_type": "code",
   "execution_count": 28,
   "metadata": {
    "collapsed": false
   },
   "outputs": [],
   "source": [
    "model = Sequential()\n",
    "model.add( InputLayer(input_shape=(5, ), name='InputLayer') )\n",
    "\n",
    "model.add( Dense(2, kernel_regularizer=l1(.01)) )\n",
    "model.add( Activation('sigmoid') )\n",
    "model.add( Dense(3, kernel_regularizer=l1(.01)) )\n",
    "model.add( Activation('sigmoid') )\n",
    "model.add( Dense(1, activation='linear') )\n",
    "\n",
    "model.compile(loss      = partial_likelihood,\n",
    "              optimizer = 'adadelta')\n"
   ]
  },
  {
   "cell_type": "code",
   "execution_count": 29,
   "metadata": {
    "collapsed": true
   },
   "outputs": [],
   "source": [
    "opts                    = dict()\n",
    "opts['dump_freq']       = 10\n",
    "opts['plot_freq']       = 10\n",
    "opts['krs_model']       = model\n",
    "opts['loss']            = partial_likelihood\n",
    "opts['metrics_l']       = None\n",
    "opts['optimizer']       = 'adadelta'\n",
    "opts['exp_path']        = '/Users/bychkov/GDD/projects/simu/models'\n",
    "opts['exp_name']        = 'mlp_1'\n",
    "opts['continue']        = False"
   ]
  },
  {
   "cell_type": "code",
   "execution_count": 30,
   "metadata": {
    "collapsed": false,
    "scrolled": false
   },
   "outputs": [
    {
     "name": "stdout",
     "output_type": "stream",
     "text": [
      "\n",
      "initializing a new model...\n",
      "Model initialized.\n"
     ]
    }
   ],
   "source": [
    "network = Builder(  opts = opts,\n",
    "                    train_data = ( train_x, train_y ),\n",
    "                    test_data  = ( test_x, test_y ),\n",
    "                    val_data   = ( val_x, val_y )  ) \n",
    "\n",
    "#history = network.train(epoches=15, batch=25, verbose=1)"
   ]
  },
  {
   "cell_type": "code",
   "execution_count": 42,
   "metadata": {
    "collapsed": false,
    "scrolled": true
   },
   "outputs": [],
   "source": [
    "history = network.train(epoches=100, batch=train_x.shape[0], shuffle=True, verbose=0)"
   ]
  },
  {
   "cell_type": "code",
   "execution_count": 313,
   "metadata": {
    "collapsed": false
   },
   "outputs": [
    {
     "name": "stdout",
     "output_type": "stream",
     "text": [
      "3000/3000 [==============================] - 0s\n",
      "1000/1000 [==============================] - 0s\n",
      "1000/1000 [==============================] - 0s\n"
     ]
    }
   ],
   "source": [
    "dfs   = list() \n",
    "\n",
    "# Train:\n",
    "d  = OrderedDict()\n",
    "d['id']    = train_y[:,3]\n",
    "d['h_hat'] = np.squeeze( network.model.predict(train_x, batch_size=3000, verbose=1) )\n",
    "dfs.append( pd.DataFrame( data=d ) )\n",
    "\n",
    "# Validation:     \n",
    "d  = OrderedDict()\n",
    "d['id']    = val_y[:,3]\n",
    "d['h_hat'] = np.squeeze( network.model.predict(val_x, batch_size=1000, verbose=1) )\n",
    "dfs.append( pd.DataFrame( data=d ) )\n",
    "\n",
    "# Test:     \n",
    "d  = OrderedDict()\n",
    "d['id']    = test_y[:,3]\n",
    "d['h_hat'] = np.squeeze( network.model.predict(test_x, batch_size=1000, verbose=1) )\n",
    "dfs.append( pd.DataFrame( data=d ) )\n",
    "            \n",
    "df = pd.concat(dfs, ignore_index=True, axis=0)\n",
    "df.sort_values(by='id', inplace=True)\n",
    "df.to_csv('models/mlp_1/preds.csv', index = False)"
   ]
  },
  {
   "cell_type": "code",
   "execution_count": null,
   "metadata": {
    "collapsed": true
   },
   "outputs": [],
   "source": []
  }
 ],
 "metadata": {
  "kernelspec": {
   "display_name": "Python 2",
   "language": "python",
   "name": "python2"
  },
  "language_info": {
   "codemirror_mode": {
    "name": "ipython",
    "version": 2
   },
   "file_extension": ".py",
   "mimetype": "text/x-python",
   "name": "python",
   "nbconvert_exporter": "python",
   "pygments_lexer": "ipython2",
   "version": "2.7.12"
  },
  "varInspector": {
   "cols": {
    "lenName": 16,
    "lenType": 16,
    "lenVar": 40
   },
   "kernels_config": {
    "python": {
     "delete_cmd_postfix": "",
     "delete_cmd_prefix": "del ",
     "library": "var_list.py",
     "varRefreshCmd": "print(var_dic_list())"
    },
    "r": {
     "delete_cmd_postfix": ") ",
     "delete_cmd_prefix": "rm(",
     "library": "var_list.r",
     "varRefreshCmd": "cat(var_dic_list()) "
    }
   },
   "types_to_exclude": [
    "module",
    "function",
    "builtin_function_or_method",
    "instance",
    "_Feature"
   ],
   "window_display": false
  }
 },
 "nbformat": 4,
 "nbformat_minor": 2
}
